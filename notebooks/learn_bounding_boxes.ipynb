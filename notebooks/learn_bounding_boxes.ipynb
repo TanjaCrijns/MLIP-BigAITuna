{
 "cells": [
  {
   "cell_type": "code",
   "execution_count": null,
   "metadata": {
    "collapsed": true
   },
   "outputs": [],
   "source": [
    "%load_ext autoreload\n",
    "%autoreload 2\n",
    "import sys\n",
    "paths = ['../models', '../dataset', '../util']\n",
    "for path in paths:\n",
    "    if path not in sys.path:\n",
    "        sys.path.append(path)"
   ]
  },
  {
   "cell_type": "code",
   "execution_count": null,
   "metadata": {
    "collapsed": false
   },
   "outputs": [],
   "source": [
    "%matplotlib inline\n",
    "\n",
    "import numpy as np\n",
    "import matplotlib.pyplot as plt\n",
    "import matplotlib.patches as patches\n",
    "from collections import defaultdict, namedtuple\n",
    "import os \n",
    "import sys\n",
    "import glob\n",
    "import scipy.misc as spm\n",
    "import json\n",
    "import pprint\n",
    "import pandas as pd\n",
    "from PIL import Image\n",
    "from sklearn.feature_extraction.image import extract_patches_2d\n",
    "from keras.preprocessing.image import ImageDataGenerator\n",
    "from keras.callbacks import CSVLogger, ModelCheckpoint, ReduceLROnPlateau"
   ]
  },
  {
   "cell_type": "code",
   "execution_count": null,
   "metadata": {
    "collapsed": false
   },
   "outputs": [],
   "source": [
    "train_data = pd.read_csv('../data/validation/test.csv')"
   ]
  },
  {
   "cell_type": "code",
   "execution_count": null,
   "metadata": {
    "collapsed": false
   },
   "outputs": [],
   "source": [
    "example = train_data.iloc[0]\n",
    "print len(train_data)\n",
    "print example.filename\n",
    "print example.label\n",
    "\n",
    "filename = '../data/train/{}/{}'.format(example.label, example.filename)\n",
    "image = spm.imread(filename)\n",
    "plt.imshow(image)\n",
    "plt.show()"
   ]
  },
  {
   "cell_type": "code",
   "execution_count": null,
   "metadata": {
    "collapsed": false
   },
   "outputs": [],
   "source": [
    "patch_width = 172\n",
    "patch_height = 172\n",
    "DATA_FOLDER = '../Data'\n",
    "bboxes = defaultdict(list)\n",
    "files = glob.glob(DATA_FOLDER + '/bounding_boxes/*.json')\n",
    "for ff in files:\n",
    "    with open(ff) as f:\n",
    "        data = json.load(f)\n",
    "        for image in data:\n",
    "            for annot in image['annotations']:\n",
    "                bboxes[DATA_FOLDER + '/train_color/' + image['filename']].append((max(0, annot['x']), max(0, annot['y']), annot['width'], annot['height']))"
   ]
  },
  {
   "cell_type": "code",
   "execution_count": null,
   "metadata": {
    "collapsed": false
   },
   "outputs": [],
   "source": [
    "def get_patches(bbox, amount= 1):\n",
    "    return extract_patches_2d(bbox, patch_size=(patch_height,patch_width), max_patches=amount, random_state=None)\n"
   ]
  },
  {
   "cell_type": "code",
   "execution_count": null,
   "metadata": {
    "collapsed": false
   },
   "outputs": [],
   "source": [
    "def DoBoxesIntersect(a,b):\n",
    "  return (abs(a.x - b.x) * 2 < (a.width + b.width)) and (abs(a.y - b.y) * 2 < (a.height + b.height))"
   ]
  },
  {
   "cell_type": "code",
   "execution_count": null,
   "metadata": {
    "collapsed": false
   },
   "outputs": [],
   "source": [
    "print len(bboxes)\n",
    "_sum = 0\n",
    "for k,v in bboxes.iteritems():\n",
    "    _sum += 1"
   ]
  },
  {
   "cell_type": "code",
   "execution_count": null,
   "metadata": {
    "collapsed": false,
    "scrolled": true
   },
   "outputs": [],
   "source": [
    "X_train = []\n",
    "y_train = []\n",
    "X_test = []\n",
    "y_test = []\n",
    "\n",
    "\n",
    "cc = 0\n",
    "for k,v in bboxes.iteritems():\n",
    "    image = spm.imread(k)\n",
    "    \n",
    "    box = namedtuple('box', ['x','y','width','height'])    \n",
    "    fish_boxes = []\n",
    "    \n",
    "    \n",
    "    for b in v:\n",
    "        x = int(round(b[0]))\n",
    "        y = int(round(b[1]))\n",
    "        width = int(round(b[2]))\n",
    "        height = int(round(b[3]))\n",
    "        fish_boxes.append(box(x,y,width,height))\n",
    "\n",
    "    \n",
    "    count = 0\n",
    "    patches_rnd = []\n",
    "    while count < 3:\n",
    "        img_y = np.random.randint(image.shape[0]-patch_height)\n",
    "        img_x = np.random.randint(image.shape[1]-patch_width)\n",
    "        box_rnd = box(img_x, img_y, patch_width,patch_height)\n",
    "        intersects = False\n",
    "        for fish_box in fish_boxes:\n",
    "            if DoBoxesIntersect(fish_box, box_rnd):\n",
    "                intersects = True\n",
    "                break\n",
    "        if not intersects:\n",
    "            patches_rnd.append(image[img_y:img_y+patch_height,img_x:img_x+patch_width,:])\n",
    "            count += 1\n",
    "            \n",
    "    \n",
    "    #if width <= patch_width or height <= patch_height:\n",
    "    #    continue\n",
    "    patches_fish = []\n",
    "    for fish_box in fish_boxes:\n",
    "        x_center = fish_box.x + int(fish_box.width/2)\n",
    "        y_center = fish_box.y + int(fish_box.height/2)\n",
    "        half_patch = patch_width /2\n",
    "        tmp = image[y_center-half_patch:y_center+half_patch,x_center-half_patch:x_center+half_patch,:]\n",
    "        if tmp.shape[0] == patch_width and tmp.shape[1] == patch_height:\n",
    "            patches_fish.append(tmp)\n",
    "        \n",
    "        \n",
    "    for p in patches_rnd:\n",
    "        p = spm.imresize(p,size=(128,128)).transpose(2,0,1)\n",
    "        if cc % 4 == 0:\n",
    "            X_test.append(p)\n",
    "            y_test.append(0)\n",
    "        else:\n",
    "            X_train.append(p)\n",
    "            y_train.append(0)\n",
    "    \n",
    "    \n",
    "    for p in patches_fish:\n",
    "        p = spm.imresize(p,size=(128,128)).transpose(2,0,1)\n",
    "        if cc % 4 == 0:\n",
    "            X_test.append(p)\n",
    "            y_test.append(1)\n",
    "        else:\n",
    "            X_train.append(p)\n",
    "            y_train.append(1)\n",
    "    \n",
    "        \n",
    "    \n",
    "    cc +=1\n",
    "            \n",
    "# rescale images        \n",
    "X_train = np.array(X_train).astype('float32') /255\n",
    "y_train = np.array(y_train)\n",
    "X_test = np.array(X_test).astype('float32') /255\n",
    "y_test = np.array(y_test)\n",
    "\n",
    "\n",
    "print X_train.shape\n",
    "print y_train.shape\n",
    "print X_test.shape\n",
    "print y_test.shape\n"
   ]
  },
  {
   "cell_type": "code",
   "execution_count": null,
   "metadata": {
    "collapsed": false
   },
   "outputs": [],
   "source": [
    "# # Example how to extract the good labels\n",
    "# # Only using the first index, should become the largest??\n",
    "# height, width, co_x, co_y = None, None, None, None\n",
    "# with open('../data/bounding_boxes/{}_labels.json'.format(example.label.lower())) as data_file:\n",
    "#     data = json.load(data_file)\n",
    "#     for i in range(len(data)):\n",
    "#         path = '../data/train/{}/{}'.format(example.label, example.filename)\n",
    "#         if data[i]['filename'] == path:\n",
    "#             height = data[i]['annotations'][0]['height']\n",
    "#             width = data[i]['annotations'][0]['width']\n",
    "#             co_x = data[i]['annotations'][0]['x']\n",
    "#             co_y = data[i]['annotations'][0]['y']\n",
    "\n",
    "# fig, ax = plt.subplots(1)\n",
    "# ax.imshow(image)\n",
    "# plt.xlim(co_x, co_x+width)\n",
    "# plt.ylim(co_y, co_y+height)\n",
    "# plt.show()"
   ]
  },
  {
   "cell_type": "code",
   "execution_count": null,
   "metadata": {
    "collapsed": false,
    "scrolled": true
   },
   "outputs": [],
   "source": [
    "for img, i in zip(X_test,y_test):\n",
    "    if i == 1:\n",
    "        plt.imshow(img.transpose(1,2,0))\n",
    "        plt.show()"
   ]
  },
  {
   "cell_type": "code",
   "execution_count": null,
   "metadata": {
    "collapsed": false
   },
   "outputs": [],
   "source": [
    "def keras_model_conv2():\n",
    "  from keras.models import Sequential\n",
    "  from keras.layers import Dense, Dropout, Activation,Flatten\n",
    "  from keras.layers import Convolution2D, MaxPooling2D\n",
    "  from keras.optimizers import SGD\n",
    "  model = Sequential()\n",
    "  model.add(Convolution2D(16, 5, 5, \n",
    "                          border_mode='valid', \n",
    "                          input_shape=(3, 128, 128)))\n",
    "  model.add(Activation('relu'))\n",
    "  model.add(MaxPooling2D(pool_size=(2,2)))\n",
    "  model.add(Convolution2D(32, 3, 3))\n",
    "  model.add(Activation('relu'))\n",
    "  model.add(MaxPooling2D(pool_size=(2,2)))\n",
    "  model.add(Convolution2D(64, 3, 3))\n",
    "  model.add(Activation('relu'))\n",
    "  model.add(MaxPooling2D(pool_size=(2,2))) \n",
    "  print model.layers[-1].output_shape  \n",
    "  model.add(Convolution2D(512, 14,14))\n",
    "  model.add(Activation('relu'))\n",
    "  model.add(Convolution2D(256, 1, 1))\n",
    "  model.add(Activation('relu'))\n",
    "  model.add(Convolution2D(1, 1, 1))\n",
    "  model.add(Flatten())\n",
    "  model.add(Activation('sigmoid'))\n",
    "\n",
    "    \n",
    "  model.compile(loss='binary_crossentropy',\n",
    "              optimizer='adam',\n",
    "              metrics=['accuracy'])\n",
    "  \n",
    "  return model"
   ]
  },
  {
   "cell_type": "code",
   "execution_count": null,
   "metadata": {
    "collapsed": true
   },
   "outputs": [],
   "source": [
    "model_path = r'C:\\Users\\Thomas\\Documents\\MLIP-BigAITuna\\model\\bounding_boxes_test2.h5'"
   ]
  },
  {
   "cell_type": "code",
   "execution_count": null,
   "metadata": {
    "collapsed": false,
    "scrolled": true
   },
   "outputs": [],
   "source": [
    "model = keras_model_conv2()\n",
    "if os.path.exists(model_path):\n",
    "    model.load_weights(model_path)\n"
   ]
  },
  {
   "cell_type": "code",
   "execution_count": null,
   "metadata": {
    "collapsed": false
   },
   "outputs": [],
   "source": [
    "datagen = ImageDataGenerator(horizontal_flip=True,\n",
    "                             vertical_flip=True,\n",
    "                             rotation_range=10,\n",
    "                             zoom_range=[0.6, 1.0]\n",
    "                            )\n",
    "train_gen = datagen.flow(X_train, \n",
    "                         y_train)\n",
    "val_gen = ImageDataGenerator().flow(X_test, y_test)\n",
    "    "
   ]
  },
  {
   "cell_type": "code",
   "execution_count": null,
   "metadata": {
    "collapsed": false,
    "scrolled": true
   },
   "outputs": [],
   "source": [
    "csv_logger = CSVLogger('run4_adam.csv')\n",
    "lr_plateau = ReduceLROnPlateau(monitor='val_loss', patience=2, verbose=1, factor=0.9)\n",
    "checkpoint = ModelCheckpoint(filepath='C:/Users/Thomas/Documents/MLIP-BigAITuna/logging/model.{epoch:02d}-{loss}.hdf5', verbose=1, save_best_only=True)\n",
    "\n",
    "model.fit_generator(train_gen, samples_per_epoch=len(X_train),\n",
    "                    nb_epoch=10, verbose=2,\n",
    "                    callbacks=[csv_logger, lr_plateau, checkpoint],\n",
    "                    validation_data=val_gen, nb_val_samples=len(X_test))\n",
    "\n",
    "model.save_weights(model_path)"
   ]
  },
  {
   "cell_type": "code",
   "execution_count": null,
   "metadata": {
    "collapsed": true
   },
   "outputs": [],
   "source": [
    "def keras_model_conv_test():\n",
    "  from keras.models import Sequential\n",
    "  from keras.layers import Dense, Dropout, Activation,Flatten\n",
    "  from keras.layers import Convolution2D, MaxPooling2D\n",
    "  from keras.optimizers import SGD\n",
    "  model = Sequential()\n",
    "  model.add(Convolution2D(16, 5, 5, \n",
    "                          border_mode='valid', \n",
    "                          input_shape=(3, None, None)))\n",
    "  model.add(Activation('relu'))\n",
    "  model.add(MaxPooling2D(pool_size=(2,2)))\n",
    "  model.add(Convolution2D(32, 3, 3))\n",
    "  model.add(Activation('relu'))\n",
    "  model.add(MaxPooling2D(pool_size=(2,2)))\n",
    "  model.add(Convolution2D(64, 3, 3))\n",
    "  model.add(Activation('relu'))\n",
    "  model.add(MaxPooling2D(pool_size=(2,2))) \n",
    "  print model.layers[-1].output_shape  \n",
    "  model.add(Convolution2D(512, 14,14))\n",
    "  model.add(Activation('relu'))\n",
    "  model.add(Convolution2D(256, 1, 1))\n",
    "  model.add(Activation('relu'))\n",
    "  model.add(Convolution2D(1, 1, 1))\n",
    "  model.add(Activation('sigmoid'))\n",
    "\n",
    "    \n",
    "  model.compile(loss='binary_crossentropy',\n",
    "              optimizer='adam',\n",
    "              metrics=['accuracy'])\n",
    "  \n",
    "  return model"
   ]
  },
  {
   "cell_type": "code",
   "execution_count": null,
   "metadata": {
    "collapsed": false
   },
   "outputs": [],
   "source": [
    "model_path = r'C:\\Users\\Thomas\\Documents\\MLIP-BigAITuna\\model\\bounding_boxes_test2.h5'\n",
    "model_test = keras_model_conv_test()\n",
    "model_test.load_weights(model_path)"
   ]
  },
  {
   "cell_type": "code",
   "execution_count": null,
   "metadata": {
    "collapsed": false,
    "scrolled": false
   },
   "outputs": [],
   "source": [
    "from bounding_boxes import *\n",
    "import cv2\n",
    "files = glob.glob(\"../data/test_stg1_color/*\")\n",
    "\n",
    "for file_n in files:\n",
    "    original_img = spm.imread(file_n)\n",
    "    image = original_img.transpose(2,0,1).astype('float32')/255\n",
    "    image = np.expand_dims(image,0)\n",
    "    print image.shape\n",
    "    score = model_test.predict_proba(image)\n",
    "    heatmap = (score[0].transpose(1,2,0).squeeze() > 0.6).astype('uint8')\n",
    "    kernel = np.ones((2,2),np.uint8)\n",
    "    print heatmap.shape\n",
    "    heatmap = cv2.erode(heatmap,kernel,iterations = 1)\n",
    "    \n",
    "    plt.imshow(heatmap)\n",
    "    plt.show()\n",
    "\n",
    "    bbox = bbox_from_segmentation(heatmap, padding=20)\n",
    "    imgshape = np.array(original_img.shape[:2])\n",
    "    aspect = imgshape/np.array(heatmap.shape[:2])\n",
    "    if bbox == None:\n",
    "        plt.imshow(original_img)\n",
    "        plt.show()\n",
    "        continue\n",
    "    bbox = list(bbox)\n",
    "    bbox[0] = bbox[0] * aspect[1]\n",
    "    bbox[1] = bbox[1] * aspect[0]\n",
    "    bbox[2]= bbox[2] * aspect[1]\n",
    "    bbox[3] = bbox[3] * aspect[0]\n",
    "\n",
    "    visualize_bbox(original_img, bbox)"
   ]
  },
  {
   "cell_type": "code",
   "execution_count": null,
   "metadata": {
    "collapsed": true
   },
   "outputs": [],
   "source": []
  },
  {
   "cell_type": "code",
   "execution_count": null,
   "metadata": {
    "collapsed": true
   },
   "outputs": [],
   "source": []
  }
 ],
 "metadata": {
  "kernelspec": {
   "display_name": "Python 2",
   "language": "python",
   "name": "python2"
  },
  "language_info": {
   "codemirror_mode": {
    "name": "ipython",
    "version": 2
   },
   "file_extension": ".py",
   "mimetype": "text/x-python",
   "name": "python",
   "nbconvert_exporter": "python",
   "pygments_lexer": "ipython2",
   "version": "2.7.13"
  }
 },
 "nbformat": 4,
 "nbformat_minor": 2
}
