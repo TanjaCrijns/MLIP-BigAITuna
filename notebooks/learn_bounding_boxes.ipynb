{
 "cells": [
  {
   "cell_type": "code",
   "execution_count": null,
   "metadata": {
    "collapsed": false
   },
   "outputs": [],
   "source": [
    "%matplotlib inline\n",
    "\n",
    "import numpy as np\n",
    "import matplotlib.pyplot as plt\n",
    "import matplotlib.patches as patches\n",
    "from collections import defaultdict, namedtuple\n",
    "import os \n",
    "import sys\n",
    "import glob\n",
    "import scipy.misc as spm\n",
    "import json\n",
    "import pprint\n",
    "import pandas as pd\n",
    "from PIL import Image\n",
    "from sklearn.feature_extraction.image import extract_patches_2d\n",
    "from keras.preprocessing.image import ImageDataGenerator\n",
    "from keras.callbacks import CSVLogger, ModelCheckpoint, ReduceLROnPlateau"
   ]
  },
  {
   "cell_type": "code",
   "execution_count": null,
   "metadata": {
    "collapsed": false
   },
   "outputs": [],
   "source": [
    "train_data = pd.read_csv('../data/validation/train.csv')"
   ]
  },
  {
   "cell_type": "code",
   "execution_count": null,
   "metadata": {
    "collapsed": false
   },
   "outputs": [],
   "source": [
    "example = train_data.iloc[0]\n",
    "print example.filename\n",
    "print example.label\n",
    "\n",
    "filename = '../data/train/{}/{}'.format(example.label, example.filename)\n",
    "image = spm.imread(filename)\n",
    "plt.imshow(image)\n",
    "plt.show()"
   ]
  },
  {
   "cell_type": "code",
   "execution_count": null,
   "metadata": {
    "collapsed": false
   },
   "outputs": [],
   "source": [
    "data = open('../data/bounding_boxes/{}_labels.json'.format(example.label.lower()))\n",
    "bb = json.load(data)\n",
    "patch_width = 128\n",
    "patch_height = 128\n",
    "nb_epoch = 10\n",
    "print image.shape"
   ]
  },
  {
   "cell_type": "code",
   "execution_count": null,
   "metadata": {
    "collapsed": false
   },
   "outputs": [],
   "source": [
    "DATA_FOLDER = '../Data'\n",
    "bboxes = defaultdict(list)\n",
    "files = glob.glob(DATA_FOLDER + '/bounding_boxes/*')\n",
    "for ff in files:\n",
    "    with open(ff) as f:\n",
    "        data = json.load(f)\n",
    "        for image in data:\n",
    "            for annot in image['annotations']:\n",
    "                bboxes[DATA_FOLDER + '/train/' + image['filename']].append((max(0, annot['x']), max(0, annot['y']), annot['width'], annot['height']))"
   ]
  },
  {
   "cell_type": "code",
   "execution_count": null,
   "metadata": {
    "collapsed": false,
    "scrolled": true
   },
   "outputs": [],
   "source": [
    "for img in bb:\n",
    "    for annot in img['annotations']:\n",
    "        sum_width +=  annot['width']\n",
    "        sum_height +=  annot['height']\n",
    "        bboxes[img['filename']].append((annot['x'], annot['y'], annot['width'], annot['height']))\n",
    "\n",
    "        \n",
    "        "
   ]
  },
  {
   "cell_type": "code",
   "execution_count": null,
   "metadata": {
    "collapsed": false
   },
   "outputs": [],
   "source": [
    "def get_patches(bbox, amount= 1):\n",
    "    return extract_patches_2d(bbox, patch_size=(patch_height,patch_width), max_patches=amount, random_state=None)\n"
   ]
  },
  {
   "cell_type": "code",
   "execution_count": null,
   "metadata": {
    "collapsed": false
   },
   "outputs": [],
   "source": [
    "def DoBoxesIntersect(a,b):\n",
    "  return (abs(a.x - b.x) * 2 < (a.width + b.width)) and (abs(a.y - b.y) * 2 < (a.height + b.height))"
   ]
  },
  {
   "cell_type": "code",
   "execution_count": null,
   "metadata": {
    "collapsed": false
   },
   "outputs": [],
   "source": [
    "count = 0\n",
    "for k,v in bboxes.iteritems():\n",
    "    print v\n",
    "    count += 1\n",
    "    if count > 10:\n",
    "        break"
   ]
  },
  {
   "cell_type": "code",
   "execution_count": null,
   "metadata": {
    "collapsed": false
   },
   "outputs": [],
   "source": [
    "X_train = []\n",
    "y_train = []\n",
    "X_test = []\n",
    "y_test = []\n",
    "\n",
    "for k,v in bboxes.iteritems():\n",
    "    image = spm.imread(k)\n",
    "    \n",
    "    box = namedtuple('box', ['x','y','width','height'])    \n",
    "    fish_boxes = []\n",
    "    \n",
    "    \n",
    "    for b in v:\n",
    "        x = int(round(b[0]))\n",
    "        y = int(round(b[1]))\n",
    "        width = int(round(b[2]))\n",
    "        height = int(round(b[3]))\n",
    "        fish_boxes.append(box(x,y,width,height))\n",
    "\n",
    "    x = fish_boxes[0].x\n",
    "    y = fish_boxes[0].y\n",
    "    width = fish_boxes[0].width\n",
    "    height = fish_boxes[0].height\n",
    "    bbox_fish_image = image[y:y+height,x:x+width,:]    \n",
    "        \n",
    "    count = 0\n",
    "    patches_rnd = []\n",
    "    while count < 5:\n",
    "        img_y = np.random.randint(image.shape[0]-patch_height)\n",
    "        img_x = np.random.randint(image.shape[1]-patch_width)\n",
    "        box_rnd = box(img_x, img_y, patch_width,patch_height)\n",
    "        intersects = False\n",
    "        for fish_box in fish_boxes:\n",
    "            if DoBoxesIntersect(fish_box, box_rnd):\n",
    "                intersects = True\n",
    "                break\n",
    "        if not intersects:\n",
    "            patches_rnd.append(image[img_y:img_y+patch_height,img_x:img_x+patch_width,:])\n",
    "            count += 1\n",
    "            \n",
    "    \n",
    "    if width < patch_width or height < patch_height:\n",
    "        continue\n",
    "    \n",
    "    patches_fish = get_patches(bbox_fish_image,amount=5)\n",
    "    count = 1\n",
    "    for p1,p2 in zip(patches_fish,patches_rnd):\n",
    "        p1 = spm.imresize(p1,size=(64,64)).transpose(2,0,1)\n",
    "        p2 = spm.imresize(p2,size=(64,64)).transpose(2,0,1)\n",
    "        if count < len(patches_fish):\n",
    "            X_train.append(p1)\n",
    "            y_train.append(1)\n",
    "            X_train.append(p2)\n",
    "            y_train.append(0)\n",
    "        else:\n",
    "            X_test.append(p1)\n",
    "            y_test.append(1)\n",
    "            X_test.append(p2)\n",
    "            y_test.append(0)\n",
    "        count +=1\n",
    "            \n",
    "            \n",
    "X_train = np.array(X_train).astype('float32') /255\n",
    "y_train = np.array(y_train)\n",
    "X_test = np.array(X_test).astype('float32') /255\n",
    "y_test = np.array(y_test)\n",
    "\n",
    "\n",
    "print X_train.shape\n",
    "print y_train.shape\n",
    "print X_test.shape\n",
    "print y_test.shape\n"
   ]
  },
  {
   "cell_type": "code",
   "execution_count": null,
   "metadata": {
    "collapsed": false
   },
   "outputs": [],
   "source": [
    "# Example how to extract the good labels\n",
    "# Only using the first index, should become the largest??\n",
    "height, width, co_x, co_y = None, None, None, None\n",
    "with open('../data/bounding_boxes/{}_labels.json'.format(example.label.lower())) as data_file:\n",
    "    data = json.load(data_file)\n",
    "    for i in range(len(data)):\n",
    "        path = '../data/train/{}/{}'.format(example.label, example.filename)\n",
    "        if data[i]['filename'] == path:\n",
    "            height = data[i]['annotations'][0]['height']\n",
    "            width = data[i]['annotations'][0]['width']\n",
    "            co_x = data[i]['annotations'][0]['x']\n",
    "            co_y = data[i]['annotations'][0]['y']\n",
    "\n",
    "fig, ax = plt.subplots(1)\n",
    "ax.imshow(image)\n",
    "plt.xlim(co_x, co_x+width)\n",
    "plt.ylim(co_y, co_y+height)\n",
    "plt.show()"
   ]
  },
  {
   "cell_type": "code",
   "execution_count": null,
   "metadata": {
    "collapsed": false,
    "scrolled": true
   },
   "outputs": [],
   "source": [
    "for img, i in zip(X_train,y_train):\n",
    "    if i == 1:\n",
    "        plt.imshow(img.transpose(1,2,0))\n",
    "        plt.show()"
   ]
  },
  {
   "cell_type": "code",
   "execution_count": null,
   "metadata": {
    "collapsed": false
   },
   "outputs": [],
   "source": [
    "def keras_model_conv2():\n",
    "  from keras.models import Sequential\n",
    "  from keras.layers import Dense, Dropout, Activation,Flatten\n",
    "  from keras.layers import Convolution2D, MaxPooling2D\n",
    "  from keras.optimizers import SGD\n",
    "  model = Sequential()\n",
    "  model.add(Convolution2D(16, 5, 5, \n",
    "                          border_mode='valid', \n",
    "                          input_shape=(3, 64, 64)))\n",
    "  model.add(Activation('relu'))\n",
    "  model.add(MaxPooling2D(pool_size=(2,2)))\n",
    "  model.add(Convolution2D(32, 3, 3))\n",
    "  model.add(Activation('relu'))\n",
    "  model.add(MaxPooling2D(pool_size=(2,2)))\n",
    "  model.add(Convolution2D(64, 3, 3))\n",
    "  model.add(Activation('relu'))\n",
    "  model.add(MaxPooling2D(pool_size=(2,2))) \n",
    "  print model.layers[-1].output_shape  \n",
    "  model.add(Convolution2D(512, 6,6))\n",
    "  model.add(Activation('relu'))\n",
    "  model.add(Convolution2D(256, 1, 1))\n",
    "  model.add(Activation('relu'))\n",
    "  model.add(Convolution2D(1, 1, 1))\n",
    "  model.add(Flatten())\n",
    "  model.add(Activation('sigmoid'))\n",
    "\n",
    "    \n",
    "  model.compile(loss='binary_crossentropy',\n",
    "              optimizer='adam',\n",
    "              metrics=['accuracy'])\n",
    "  \n",
    "  return model"
   ]
  },
  {
   "cell_type": "code",
   "execution_count": null,
   "metadata": {
    "collapsed": false,
    "scrolled": true
   },
   "outputs": [],
   "source": [
    "model_path = r'C:\\Users\\Thomas\\Documents\\MLIP-BigAITuna\\model\\bounding_boxes.h5'\n",
    "model = keras_model_conv2()\n",
    "if os.path.exists(model_path):\n",
    "    model.load_weights(model_path)\n"
   ]
  },
  {
   "cell_type": "code",
   "execution_count": null,
   "metadata": {
    "collapsed": true
   },
   "outputs": [],
   "source": [
    "datagen = ImageDataGenerator(horizontal_flip=True,\n",
    "                             vertical_flip=True,\n",
    "                             rotation_range=10,\n",
    "                             zoom_range=[0.8, 1.2],\n",
    "                             width_shift_range=0.1,\n",
    "                             height_shift_range=0.1)\n",
    "train_gen = datagen.flow(X_train, \n",
    "                         y_train)\n",
    "val_gen = ImageDataGenerator().flow(X_test, y_test)\n",
    "    "
   ]
  },
  {
   "cell_type": "code",
   "execution_count": null,
   "metadata": {
    "collapsed": false,
    "scrolled": true
   },
   "outputs": [],
   "source": [
    "csv_logger = CSVLogger('run4_adam.csv')\n",
    "lr_plateau = ReduceLROnPlateau(monitor='val_loss', patience=2, verbose=1, factor=0.9)\n",
    "checkpoint = ModelCheckpoint(filepath='C:/Users/Thomas/Documents/MLIP-BigAITuna/logging/model.{epoch:02d}-{loss}.hdf5', verbose=1, save_best_only=True)\n",
    "\n",
    "model.fit_generator(train_gen, samples_per_epoch=len(X_train),\n",
    "                    nb_epoch=30, verbose=2,\n",
    "                    callbacks=[csv_logger, lr_plateau, checkpoint],\n",
    "                    validation_data=val_gen, nb_val_samples=len(X_test))\n",
    "\n",
    "model.save_weights(model_path)"
   ]
  },
  {
   "cell_type": "code",
   "execution_count": null,
   "metadata": {
    "collapsed": true
   },
   "outputs": [],
   "source": [
    "def keras_model_conv_test():\n",
    "  from keras.models import Sequential\n",
    "  from keras.layers import Dense, Dropout, Activation,Flatten\n",
    "  from keras.layers import Convolution2D, MaxPooling2D\n",
    "  from keras.optimizers import SGD\n",
    "  model = Sequential()\n",
    "  model.add(Convolution2D(16, 5, 5, \n",
    "                          border_mode='valid', \n",
    "                          input_shape=(3, None, None)))\n",
    "  model.add(Activation('relu'))\n",
    "  model.add(MaxPooling2D(pool_size=(2,2)))\n",
    "  model.add(Convolution2D(32, 3, 3))\n",
    "  model.add(Activation('relu'))\n",
    "  model.add(MaxPooling2D(pool_size=(2,2)))\n",
    "  model.add(Convolution2D(64, 3, 3))\n",
    "  model.add(Activation('relu'))\n",
    "  model.add(MaxPooling2D(pool_size=(2,2))) \n",
    "  print model.layers[-1].output_shape  \n",
    "  model.add(Convolution2D(512, 6,6))\n",
    "  model.add(Activation('relu'))\n",
    "  model.add(Convolution2D(256, 1, 1))\n",
    "  model.add(Activation('relu'))\n",
    "  model.add(Convolution2D(1, 1, 1))\n",
    "  model.add(Activation('sigmoid'))\n",
    "\n",
    "    \n",
    "  model.compile(loss='binary_crossentropy',\n",
    "              optimizer='adam',\n",
    "              metrics=['accuracy'])\n",
    "  \n",
    "  return model"
   ]
  },
  {
   "cell_type": "code",
   "execution_count": null,
   "metadata": {
    "collapsed": false
   },
   "outputs": [],
   "source": [
    "model_test = keras_model_conv_test()\n",
    "model_test.load_weights(model_path)"
   ]
  },
  {
   "cell_type": "code",
   "execution_count": null,
   "metadata": {
    "collapsed": false
   },
   "outputs": [],
   "source": [
    "# example = train_data.iloc[200]\n",
    "# filename = '../data/train/{}/{}'.format(example.label, example.filename)\n",
    "# filename = '../data/train/{}/{}'.format(\"Alb\", \"img_01583.jpg\")\n",
    "# image = spm.imread(filename)\n",
    "\n",
    "\n",
    "image_height = image.shape[0]/2\n",
    "image_width = image.shape[1]/2\n",
    "img_resize = spm.imresize(image,size=(image_height,image_width)).transpose(2,0,1).astype('float32')/255\n",
    "img_resize = img_resize.reshape(1,3,image_height,image_width)"
   ]
  },
  {
   "cell_type": "code",
   "execution_count": null,
   "metadata": {
    "collapsed": false
   },
   "outputs": [],
   "source": [
    "score = model_test.predict_proba(img_resize)"
   ]
  },
  {
   "cell_type": "code",
   "execution_count": null,
   "metadata": {
    "collapsed": false
   },
   "outputs": [],
   "source": [
    "heatmap = score[0].transpose(1,2,0).squeeze() >0.99\n",
    "print heatmap.shape"
   ]
  },
  {
   "cell_type": "code",
   "execution_count": null,
   "metadata": {
    "collapsed": false,
    "scrolled": true
   },
   "outputs": [],
   "source": [
    "plt.imshow(heatmap)\n",
    "plt.show()\n",
    "plt.imshow(image)\n",
    "plt.show()"
   ]
  },
  {
   "cell_type": "code",
   "execution_count": null,
   "metadata": {
    "collapsed": true
   },
   "outputs": [],
   "source": []
  }
 ],
 "metadata": {
  "kernelspec": {
   "display_name": "Python 2",
   "language": "python",
   "name": "python2"
  },
  "language_info": {
   "codemirror_mode": {
    "name": "ipython",
    "version": 2
   },
   "file_extension": ".py",
   "mimetype": "text/x-python",
   "name": "python",
   "nbconvert_exporter": "python",
   "pygments_lexer": "ipython2",
   "version": "2.7.13"
  }
 },
 "nbformat": 4,
 "nbformat_minor": 2
}
