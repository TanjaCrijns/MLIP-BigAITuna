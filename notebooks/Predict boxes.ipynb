{
 "cells": [
  {
   "cell_type": "markdown",
   "metadata": {},
   "source": [
    "### Predicting bounding box\n",
    "\n",
    "This notebook tries to predict the values for the upper right corner en the under left corner of the given annotated bounding boxes. We will train a CNN that tries to predict this."
   ]
  },
  {
   "cell_type": "code",
   "execution_count": 1,
   "metadata": {
    "collapsed": false
   },
   "outputs": [],
   "source": [
    "import numpy as np\n",
    "import pandas as pd\n",
    "import json\n",
    "import pprint\n",
    "import os\n",
    "import scipy.misc as spm\n",
    "import glob\n",
    "from tqdm import *"
   ]
  },
  {
   "cell_type": "code",
   "execution_count": 2,
   "metadata": {
    "collapsed": true
   },
   "outputs": [],
   "source": [
    "train_set = pd.read_csv('../data/validation/train.csv')"
   ]
  },
  {
   "cell_type": "markdown",
   "metadata": {},
   "source": [
    "The goal is to predict the corners, where the input is **only** the image. So the class label is not known, so I create a new dataframe where there are only two thinks known. Namely, the image and the corners. Out of these images then the corners need to be predicted."
   ]
  },
  {
   "cell_type": "code",
   "execution_count": 3,
   "metadata": {
    "collapsed": false
   },
   "outputs": [],
   "source": [
    "labeled_classes = ['ALB', 'BET', 'DOL', 'LAG', 'SHARK', 'YFT']\n",
    "\n",
    "df = pd.DataFrame()\n",
    "\n",
    "for label in labeled_classes:\n",
    "    with open('../data/boxes/{}_labels.json'.format(label.lower())) as data_file:\n",
    "        data = json.load(data_file)\n",
    "        for i in range(len(data)):\n",
    "            image_name = os.path.basename(data[i]['filename'])\n",
    "            for box in data[i]['annotations']:\n",
    "                x, y, height, width = box['x'], box['y'], box['height'], box['width']\n",
    "                df[len(df.T.index)] = [image_name, x, y, height, width]\n",
    "df = df.T\n",
    "#print df\n",
    "df.columns = ['filename', 'x', 'y', 'height', 'width']\n",
    "x_temp = df[['filename']]\n",
    "y_temp = df[['x', 'y', 'height', 'width']]"
   ]
  },
  {
   "cell_type": "code",
   "execution_count": 12,
   "metadata": {
    "collapsed": false
   },
   "outputs": [
    {
     "name": "stderr",
     "output_type": "stream",
     "text": [
      "  1%|          | 1/100 [00:00<00:15,  6.51it/s]"
     ]
    },
    {
     "name": "stdout",
     "output_type": "stream",
     "text": [
      "(4082, 1)\n"
     ]
    },
    {
     "name": "stderr",
     "output_type": "stream",
     "text": [
      "100%|██████████| 100/100 [00:03<00:00, 26.17it/s]"
     ]
    },
    {
     "name": "stdout",
     "output_type": "stream",
     "text": [
      "(4082, 3, 128, 128)\n",
      "[[[ 227.  184.  193. ...,   99.   99.   99.]\n",
      "  [ 225.  187.  192. ...,  100.  100.  100.]\n",
      "  [ 224.  178.  194. ...,   99.  101.  101.]\n",
      "  ..., \n",
      "  [ 181.  182.  184. ...,  177.  112.   80.]\n",
      "  [ 173.  173.  175. ...,  155.  111.   88.]\n",
      "  [ 182.  180.  174. ...,  117.  103.   94.]]\n",
      "\n",
      " [[ 226.  182.  198. ...,  116.  116.  116.]\n",
      "  [ 225.  186.  197. ...,  116.  116.  116.]\n",
      "  [ 225.  177.  196. ...,  114.  116.  116.]\n",
      "  ..., \n",
      "  [ 193.  194.  196. ...,  200.  136.  104.]\n",
      "  [ 185.  185.  187. ...,  188.  153.  125.]\n",
      "  [ 196.  194.  187. ...,  163.  158.  148.]]\n",
      "\n",
      " [[ 225.  180.  196. ...,  127.  128.  128.]\n",
      "  [ 224.  187.  195. ...,  122.  123.  124.]\n",
      "  [ 224.  175.  191. ...,  118.  120.  122.]\n",
      "  ..., \n",
      "  [ 209.  209.  212. ...,  217.  156.  122.]\n",
      "  [ 200.  200.  202. ...,  221.  203.  166.]\n",
      "  [ 203.  201.  195. ...,  221.  228.  212.]]]\n",
      "[ 54.  34.  26.  38.]\n"
     ]
    },
    {
     "name": "stderr",
     "output_type": "stream",
     "text": [
      "\n"
     ]
    }
   ],
   "source": [
    "X = x_temp.as_matrix()\n",
    "Y = y_temp.as_matrix()\n",
    "print(X.shape)\n",
    "X_train = np.zeros((X.shape[0], 3, 128, 128))\n",
    "y_train = np.zeros((Y.shape[0], 4))\n",
    "#for j in tqdm(range(len(X))):\n",
    "for j in tqdm(range(100)):\n",
    "    arra = spm.imread(glob.glob('../data/train/*/{}'.format(X[j][0]))[0])\n",
    "    warp = (128.0/arra.shape[0], 128.0/arra.shape[1])\n",
    "    y_train[j,0] = int(Y[j,0]*warp[1])\n",
    "    y_train[j,1] = int(Y[j,1]*warp[0])\n",
    "    y_train[j,2] = int(Y[j,2]*warp[0])\n",
    "    y_train[j,3] = int(Y[j,3]*warp[1])\n",
    "    arra2 = spm.imresize(arra, (128,128)).T\n",
    "    X_train[j,:,:,:] = arra2\n",
    "    \n",
    "print X_train.shape\n",
    "print X_train[0,:,:,:]\n",
    "print y_train[0,:]\n",
    "\n",
    "# filename = '../data/train/{}/{}'.format(example.label, example.filename)\n",
    "# image = spm.imread(filename)"
   ]
  },
  {
   "cell_type": "code",
   "execution_count": null,
   "metadata": {
    "collapsed": true
   },
   "outputs": [],
   "source": []
  }
 ],
 "metadata": {
  "kernelspec": {
   "display_name": "Python 2",
   "language": "python",
   "name": "python2"
  },
  "language_info": {
   "codemirror_mode": {
    "name": "ipython",
    "version": 2
   },
   "file_extension": ".py",
   "mimetype": "text/x-python",
   "name": "python",
   "nbconvert_exporter": "python",
   "pygments_lexer": "ipython2",
   "version": "2.7.13"
  }
 },
 "nbformat": 4,
 "nbformat_minor": 0
}
