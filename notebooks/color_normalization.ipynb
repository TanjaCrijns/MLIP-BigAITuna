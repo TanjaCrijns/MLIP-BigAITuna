{
 "cells": [
  {
   "cell_type": "markdown",
   "metadata": {},
   "source": [
    "### Paths (you have to change this according to your own paths)"
   ]
  },
  {
   "cell_type": "code",
   "execution_count": 1,
   "metadata": {
    "collapsed": true
   },
   "outputs": [],
   "source": [
    "# FILL IN YOUR OWN PATHS WHERE THE test_stg1 AND train FOLDER ARE!\n",
    "path_data_test = '../../Data/test_stg1'\n",
    "path_data_train = '../../Data/train/train'\n",
    "path_output = '../../Data' # Here the new folders will be created with colorized images"
   ]
  },
  {
   "cell_type": "markdown",
   "metadata": {},
   "source": [
    "### Imports"
   ]
  },
  {
   "cell_type": "code",
   "execution_count": 2,
   "metadata": {
    "collapsed": false
   },
   "outputs": [],
   "source": [
    "import pandas as pd\n",
    "import numpy as np\n",
    "import scipy\n",
    "import os\n",
    "import glob\n",
    "from sklearn import cluster\n",
    "from scipy.misc import imread\n",
    "import skimage.measure as sm\n",
    "import cv2\n",
    "import multiprocessing\n",
    "from tqdm import *\n",
    "import random\n",
    "from PIL import Image\n",
    "import matplotlib\n",
    "import matplotlib.pyplot as plt\n",
    "from matplotlib import cm\n",
    "%matplotlib inline \n",
    "matplotlib.rcParams['figure.figsize'] = (20, 12)\n",
    "import seaborn as sns\n",
    "new_style = {'grid': False}\n",
    "plt.rc('axes', **new_style)"
   ]
  },
  {
   "cell_type": "markdown",
   "metadata": {},
   "source": [
    "### Functions\n",
    "\n"
   ]
  },
  {
   "cell_type": "code",
   "execution_count": 3,
   "metadata": {
    "collapsed": true
   },
   "outputs": [],
   "source": [
    "# Function to do histogram matching\n",
    "def get_histogram_matching_lut(h_input, h_template):\n",
    "    ''' h_input: histogram to transfrom, h_template: reference'''\n",
    "    if len(h_input) != len(h_template):\n",
    "        print 'histograms length mismatch!'\n",
    "        return False\n",
    "    \n",
    "    # Create cumulative sum histograms\n",
    "    H_input = np.cumsum(h_input)\n",
    "    H_template = np.cumsum(h_template)\n",
    "\n",
    "    # Create empty LUT and fill (linear time)\n",
    "    LUT = []\n",
    "    for i in range(0, len(H_template)):\n",
    "        for j in range(len(LUT), len(H_input)):\n",
    "            \n",
    "            # As long as the input value is not at the template value, match their index with the template index\n",
    "            if (H_template[i] >= H_input[j]):\n",
    "                LUT += [i]\n",
    "            else:\n",
    "                # Assure minimal distance is the criterium\n",
    "                #if ( abs(H_template[i] - H_input[j]) < abs(H_template[i+1] - H_input[j])):\n",
    "                    #LUT += [i]\n",
    "                break\n",
    "    \n",
    "    LUT = np.asarray(LUT) # Turns list into array to match future code\n",
    "    \n",
    "    return LUT,H_input,H_template\n",
    "\n",
    "# Function to normalize color between images\n",
    "def stain_normalization(input_img, target_img, n_bins=100):\n",
    "    \"\"\" Stain normalization based on histogram matching. \"\"\"\n",
    "    input_img = input_img/255.0\n",
    "    target_img = target_img/255.0\n",
    "\n",
    "    normalized_img = np.zeros_like(input_img)\n",
    "    for i in [0, 1, 2]:\n",
    "        hist_input = np.histogram(input_img[:, :, i], bins=np.linspace(0., 1., n_bins+1))\n",
    "        hist_target = np.histogram(target_img[:, :, i], bins=np.linspace(0., 1., n_bins+1))\n",
    "        LUT, _, _ = get_histogram_matching_lut(hist_input[0], hist_target[0])\n",
    "    \n",
    "        stain_lut = LUT[(input_img[:, :, i] * (n_bins-1)).astype(int)].astype(float) / float(n_bins)\n",
    "        normalized_img[:, :, i] = stain_lut\n",
    "    \n",
    "    \n",
    "    return normalized_img"
   ]
  },
  {
   "cell_type": "markdown",
   "metadata": {},
   "source": [
    "### Input data, colorize and save to disk"
   ]
  },
  {
   "cell_type": "code",
   "execution_count": 4,
   "metadata": {
    "collapsed": false,
    "scrolled": false
   },
   "outputs": [
    {
     "ename": "NameError",
     "evalue": "name 'normal' is not defined",
     "output_type": "error",
     "traceback": [
      "\u001b[1;31m---------------------------------------------------------------------------\u001b[0m",
      "\u001b[1;31mNameError\u001b[0m                                 Traceback (most recent call last)",
      "\u001b[1;32m<ipython-input-4-fad9312ad4fa>\u001b[0m in \u001b[0;36m<module>\u001b[1;34m()\u001b[0m\n\u001b[0;32m      1\u001b[0m \u001b[1;31m# Image to be used as base colorization\u001b[0m\u001b[1;33m\u001b[0m\u001b[1;33m\u001b[0m\u001b[0m\n\u001b[0;32m      2\u001b[0m \u001b[0mcolor_img\u001b[0m \u001b[1;33m=\u001b[0m \u001b[0mnp\u001b[0m\u001b[1;33m.\u001b[0m\u001b[0masarray\u001b[0m\u001b[1;33m(\u001b[0m\u001b[0mImage\u001b[0m\u001b[1;33m.\u001b[0m\u001b[0mopen\u001b[0m\u001b[1;33m(\u001b[0m\u001b[0mpath_data_test\u001b[0m \u001b[1;33m+\u001b[0m \u001b[1;34m'/img_00230.jpg'\u001b[0m\u001b[1;33m)\u001b[0m\u001b[1;33m)\u001b[0m\u001b[1;33m\u001b[0m\u001b[0m\n\u001b[1;32m----> 3\u001b[1;33m \u001b[0mcolor_img\u001b[0m \u001b[1;33m=\u001b[0m \u001b[0mcv2\u001b[0m\u001b[1;33m.\u001b[0m\u001b[0mresize\u001b[0m\u001b[1;33m(\u001b[0m\u001b[0mnormal\u001b[0m\u001b[1;33m,\u001b[0m \u001b[1;33m(\u001b[0m\u001b[1;36m1280\u001b[0m\u001b[1;33m,\u001b[0m\u001b[1;36m720\u001b[0m\u001b[1;33m)\u001b[0m\u001b[1;33m)\u001b[0m\u001b[1;33m\u001b[0m\u001b[0m\n\u001b[0m\u001b[0;32m      4\u001b[0m \u001b[1;33m\u001b[0m\u001b[0m\n\u001b[0;32m      5\u001b[0m \u001b[1;31m# Code for testing small sets\u001b[0m\u001b[1;33m\u001b[0m\u001b[1;33m\u001b[0m\u001b[0m\n",
      "\u001b[1;31mNameError\u001b[0m: name 'normal' is not defined"
     ]
    }
   ],
   "source": [
    "# Image to be used as base colorization\n",
    "color_img = np.asarray(Image.open(path_data_test + '/img_00230.jpg'))\n",
    "color_img = cv2.resize(color_img, (1280,720))\n",
    "\n",
    "# Code for testing small sets\n",
    "# select = 10 # Only load 100 images for speed\n",
    "# test_path = path_data_test + '/*.jpg'\n",
    "# test_files = sorted(glob.glob(test_path), key=lambda x: random.random())[:select]\n",
    "# test = np.array([imread(img) for img in test_files])\n",
    "# names_test = []\n",
    "# for f in test_files:\n",
    "#     name = os.path.basename(f)\n",
    "#     names_test.append(name)\n",
    "\n",
    "# Test Data loading\n",
    "test_path = path_data_test + '*.jpg'\n",
    "test = []\n",
    "names_test = []\n",
    "for img in glob.glob(test_path):\n",
    "    n = cv2.imread(img)\n",
    "    train.append(n)\n",
    "    name = os.path.basename(img)\n",
    "    names_test.append(name)\n",
    "\n",
    "test = np.asarray(test)    \n",
    "test = [cv2.resize(img, (1280,720)) for img in test]\n",
    "test_color = np.array([stain_normalization(img, color_img) for img in test])\n",
    "\n",
    "new_dir_test = path_output + '/test_stg1_color/'\n",
    "if(not(os.path.exists(new_dir_test))):\n",
    "    os.mkdir(new_dir_test)\n",
    "\n",
    "for index,img_color in enumerate(test_color):\n",
    "    name = names_test[index]\n",
    "    path = new_dir_test + name\n",
    "    scipy.misc.imsave(path, img_color)\n",
    "\n",
    "# Train Data loading\n",
    "folders = ['/ALB', '/BET', '/DOL', '/LAG', '/Nof', '/OTHER', '/SHARK', '/YFT']\n",
    "if(not(os.path.exists(path_output + '/train_color'))):\n",
    "    os.mkdir(path_output + '/train_color')\n",
    "\n",
    "for i in range(len(folders)):\n",
    "    \n",
    "#     Code for testing small sets\n",
    "#     select = 10 # Only load 100 images for speed\n",
    "#     train_path = path_data_train + folders[i] + '/*.jpg'\n",
    "#     train_files = sorted(glob.glob(test_path), key=lambda x: random.random())[:select]\n",
    "#     train = np.array([imread(img) for img in train_files])\n",
    "#     names_train = []\n",
    "#     for f in train_files:\n",
    "#         name = os.path.basename(f)\n",
    "#         names_train.append(name)\n",
    "\n",
    "    test_path = path_data_train + folders[i] + '/*.jpg'\n",
    "    train =[]\n",
    "    names_train = []\n",
    "    for img in glob.glob(test_path):\n",
    "        n = cv2.imread(img)\n",
    "        train.append(n)\n",
    "        name = os.path.basename(img)\n",
    "        names_train.append(name)\n",
    "        \n",
    "    train = np.asarray(train)    \n",
    "    train = [cv2.resize(img, (1280,720)) for img in train]\n",
    "    train_color = np.array([stain_normalization(img, color_img) for img in train])\n",
    "\n",
    "    new_dir_train = path_output + '/train_color' + folders[i]\n",
    "    if(not(os.path.exists(new_dir_train))):\n",
    "        os.mkdir(new_dir_train)\n",
    "\n",
    "    for index,img_color in enumerate(train_color):\n",
    "        name = names_train[index]\n",
    "        path = new_dir_train + '/' + name\n",
    "        scipy.misc.imsave(path, img_color)"
   ]
  },
  {
   "cell_type": "code",
   "execution_count": null,
   "metadata": {
    "collapsed": true
   },
   "outputs": [],
   "source": []
  }
 ],
 "metadata": {
  "kernelspec": {
   "display_name": "Python [Root]",
   "language": "python",
   "name": "Python [Root]"
  },
  "language_info": {
   "codemirror_mode": {
    "name": "ipython",
    "version": 2
   },
   "file_extension": ".py",
   "mimetype": "text/x-python",
   "name": "python",
   "nbconvert_exporter": "python",
   "pygments_lexer": "ipython2",
   "version": "2.7.12"
  }
 },
 "nbformat": 4,
 "nbformat_minor": 0
}
