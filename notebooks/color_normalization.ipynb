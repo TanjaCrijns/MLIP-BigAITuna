{
 "cells": [
  {
   "cell_type": "markdown",
   "metadata": {},
   "source": [
    "### Paths (you have to change this according to your own paths)"
   ]
  },
  {
   "cell_type": "code",
   "execution_count": 12,
   "metadata": {
    "collapsed": true
   },
   "outputs": [],
   "source": [
    "# FILL IN YOUR OWN PATHS WHERE THE test_stg1 AND train FOLDER ARE!\n",
    "path_data_test = '../../Data/test_stg1'\n",
    "path_data_train = '../../Data/train/train'\n",
    "path_output = '../../Data' # Here the new folders will be created with colorized images"
   ]
  },
  {
   "cell_type": "markdown",
   "metadata": {},
   "source": [
    "### Imports"
   ]
  },
  {
   "cell_type": "code",
   "execution_count": 13,
   "metadata": {
    "collapsed": false
   },
   "outputs": [],
   "source": [
    "import pandas as pd\n",
    "import numpy as np\n",
    "import scipy\n",
    "import os\n",
    "import glob\n",
    "from sklearn import cluster\n",
    "from scipy.misc import imread\n",
    "import skimage.measure as sm\n",
    "import cv2\n",
    "import multiprocessing\n",
    "from tqdm import *\n",
    "import random\n",
    "from PIL import Image\n",
    "import matplotlib\n",
    "import matplotlib.pyplot as plt\n",
    "from matplotlib import cm\n",
    "%matplotlib inline \n",
    "matplotlib.rcParams['figure.figsize'] = (20, 12)\n",
    "import seaborn as sns\n",
    "new_style = {'grid': False}\n",
    "plt.rc('axes', **new_style)"
   ]
  },
  {
   "cell_type": "markdown",
   "metadata": {},
   "source": [
    "### Functions\n",
    "\n"
   ]
  },
  {
   "cell_type": "code",
   "execution_count": 14,
   "metadata": {
    "collapsed": true
   },
   "outputs": [],
   "source": [
    "# Function to do histogram matching\n",
    "def get_histogram_matching_lut(h_input, h_template):\n",
    "    ''' h_input: histogram to transfrom, h_template: reference'''\n",
    "    if len(h_input) != len(h_template):\n",
    "        print 'histograms length mismatch!'\n",
    "        return False\n",
    "    \n",
    "    # Create cumulative sum histograms\n",
    "    H_input = np.cumsum(h_input)\n",
    "    H_template = np.cumsum(h_template)\n",
    "\n",
    "    # Create empty LUT and fill (linear time)\n",
    "    LUT = []\n",
    "    for i in range(0, len(H_template)):\n",
    "        for j in range(len(LUT), len(H_input)):\n",
    "            \n",
    "            # As long as the input value is not at the template value, match their index with the template index\n",
    "            if (H_template[i] >= H_input[j]):\n",
    "                LUT += [i]\n",
    "            else:\n",
    "                # Assure minimal distance is the criterium\n",
    "                #if ( abs(H_template[i] - H_input[j]) < abs(H_template[i+1] - H_input[j])):\n",
    "                    #LUT += [i]\n",
    "                break\n",
    "    \n",
    "    LUT = np.asarray(LUT) # Turns list into array to match future code\n",
    "    \n",
    "    return LUT,H_input,H_template\n",
    "\n",
    "# Function to normalize color between images\n",
    "def stain_normalization(input_img, target_img, n_bins=100):\n",
    "    \"\"\" Stain normalization based on histogram matching. \"\"\"\n",
    "    input_img = input_img/255.0\n",
    "    target_img = target_img/255.0\n",
    "\n",
    "    normalized_img = np.zeros_like(input_img)\n",
    "    for i in [0, 1, 2]:\n",
    "        hist_input = np.histogram(input_img[:, :, i], bins=np.linspace(0., 1., n_bins+1))\n",
    "        hist_target = np.histogram(target_img[:, :, i], bins=np.linspace(0., 1., n_bins+1))\n",
    "        LUT, _, _ = get_histogram_matching_lut(hist_input[0], hist_target[0])\n",
    "    \n",
    "        stain_lut = LUT[(input_img[:, :, i] * (n_bins-1)).astype(int)].astype(float) / float(n_bins)\n",
    "        normalized_img[:, :, i] = stain_lut\n",
    "    \n",
    "    \n",
    "    return normalized_img"
   ]
  },
  {
   "cell_type": "markdown",
   "metadata": {},
   "source": [
    "### Input data, colorize and save to disk"
   ]
  },
  {
   "cell_type": "code",
   "execution_count": 15,
   "metadata": {
    "collapsed": true
   },
   "outputs": [],
   "source": [
    "# Image to be used as base colorization\n",
    "color_img = np.asarray(Image.open(path_data_test + '/img_00230.jpg'))\n",
    "color_img = cv2.resize(color_img, (1280,720))"
   ]
  },
  {
   "cell_type": "code",
   "execution_count": 17,
   "metadata": {
    "collapsed": false
   },
   "outputs": [
    {
     "name": "stdout",
     "output_type": "stream",
     "text": [
      "Converting the test set\n",
      "Converting the/ALB train set\n",
      "Converting the/BET train set\n",
      "Converting the/DOL train set\n",
      "Converting the/LAG train set\n",
      "Converting the/Nof train set\n",
      "Converting the/OTHER train set\n",
      "Converting the/SHARK train set\n",
      "Converting the/YFT train set\n"
     ]
    }
   ],
   "source": [
    "##########################\n",
    "# Test Data loading Test #\n",
    "##########################\n",
    "\n",
    "new_dir_test = path_output + '/test_stg1_color/'\n",
    "if(not(os.path.exists(new_dir_test))):\n",
    "    os.mkdir(new_dir_test)\n",
    "\n",
    "# Code for testing small sets\n",
    "# select = 10 # Only load 100 images for speed\n",
    "# test_path = path_data_test + '/*.jpg'\n",
    "# test_files = sorted(glob.glob(test_path), key=lambda x: random.random())[:select]\n",
    "# test = np.array([imread(img) for img in test_files])\n",
    "# names_test = []\n",
    "# for f in test_files:\n",
    "#     name = os.path.basename(f)\n",
    "#     names_test.append(name)    \n",
    "    \n",
    "# Use all data\n",
    "print(\"Converting the test set\")\n",
    "test_path = path_data_test + '/*.jpg'\n",
    "for img in glob.glob(test_path):\n",
    "    name = os.path.basename(img)\n",
    "    test = cv2.imread(img)\n",
    "    test = cv2.resize(test, (1280,720))\n",
    "    test_color = stain_normalization(test, color_img)\n",
    "    path = new_dir_test + name\n",
    "    scipy.misc.imsave(path, test_color)\n",
    "\n",
    "######################    \n",
    "# Train Data loading #\n",
    "######################\n",
    "\n",
    "folders = ['/ALB', '/BET', '/DOL', '/LAG', '/Nof', '/OTHER', '/SHARK', '/YFT']\n",
    "if(not(os.path.exists(path_output + '/train_color'))):\n",
    "    os.mkdir(path_output + '/train_color')\n",
    "    \n",
    "for i in range(len(folders)):\n",
    "    \n",
    "# Code for testing small sets\n",
    "#     select = 10 # Only load 100 images for speed\n",
    "#     train_path = path_data_train + folders[i] + '/*.jpg'\n",
    "#     train_files = sorted(glob.glob(test_path), key=lambda x: random.random())[:select]\n",
    "#     train = np.array([imread(img) for img in train_files])\n",
    "#     names_train = []\n",
    "#     for f in train_files:\n",
    "#         name = os.path.basename(f)\n",
    "#         names_train.append(name)\n",
    "\n",
    "# Use all data\n",
    "    new_dir_train = path_output + '/train_color' + folders[i]\n",
    "    if(not(os.path.exists(new_dir_train))):\n",
    "        os.mkdir(new_dir_train)\n",
    "    \n",
    "    print(\"Converting the \" + folders[i] + \" train set\")\n",
    "    \n",
    "    train_path = path_data_train + folders[i] + '/*.jpg'\n",
    "    for img in glob.glob(train_path):\n",
    "        name = os.path.basename(img)\n",
    "        train = cv2.imread(img)\n",
    "        train = cv2.resize(train, (1280,720))\n",
    "        train_color = stain_normalization(train, color_img)\n",
    "        path = new_dir_train + '/' + name\n",
    "        scipy.misc.imsave(path, train_color)"
   ]
  },
  {
   "cell_type": "code",
   "execution_count": null,
   "metadata": {
    "collapsed": true
   },
   "outputs": [],
   "source": []
  }
 ],
 "metadata": {
  "kernelspec": {
   "display_name": "Python [Root]",
   "language": "python",
   "name": "Python [Root]"
  },
  "language_info": {
   "codemirror_mode": {
    "name": "ipython",
    "version": 2
   },
   "file_extension": ".py",
   "mimetype": "text/x-python",
   "name": "python",
   "nbconvert_exporter": "python",
   "pygments_lexer": "ipython2",
   "version": "2.7.12"
  }
 },
 "nbformat": 4,
 "nbformat_minor": 0
}
