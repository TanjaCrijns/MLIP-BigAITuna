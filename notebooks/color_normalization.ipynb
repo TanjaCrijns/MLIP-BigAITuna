{
 "cells": [
  {
   "cell_type": "markdown",
   "metadata": {},
   "source": [
    "### Imports"
   ]
  },
  {
   "cell_type": "code",
   "execution_count": 4,
   "metadata": {
    "collapsed": false
   },
   "outputs": [],
   "source": [
    "import pandas as pd\n",
    "import numpy as np\n",
    "import scipy\n",
    "import glob\n",
    "from sklearn import cluster\n",
    "from scipy.misc import imread\n",
    "import skimage.measure as sm\n",
    "import cv2\n",
    "# import progressbar\n",
    "import multiprocessing\n",
    "import random\n",
    "import matplotlib.pyplot as plt\n",
    "import seaborn as sns\n",
    "%matplotlib inline\n",
    "new_style = {'grid': False}\n",
    "plt.rc('axes', **new_style)"
   ]
  },
  {
   "cell_type": "markdown",
   "metadata": {},
   "source": [
    "### Help functions\n",
    "\n"
   ]
  },
  {
   "cell_type": "code",
   "execution_count": 5,
   "metadata": {
    "collapsed": true
   },
   "outputs": [],
   "source": [
    "# Function to show 4 images\n",
    "def show_four(imgs, title):\n",
    "    #select_imgs = [np.random.choice(imgs) for _ in range(4)]\n",
    "    select_imgs = [imgs[np.random.choice(len(imgs))] for _ in range(4)]\n",
    "    _, ax = plt.subplots(1, 4, sharex='col', sharey='row', figsize=(20, 3))\n",
    "    plt.suptitle(title, size=20)\n",
    "    for i, img in enumerate(select_imgs):\n",
    "        ax[i].imshow(img)\n",
    "\n",
    "# Function to show 8 images\n",
    "def show_eight(imgs, title):\n",
    "    select_imgs = [imgs[np.random.choice(len(imgs))] for _ in range(8)]\n",
    "    _, ax = plt.subplots(2, 4, sharex='col', sharey='row', figsize=(20, 6))\n",
    "    plt.suptitle(title, size=20)\n",
    "    for i, img in enumerate(select_imgs):\n",
    "        ax[i // 4, i % 4].imshow(img)\n",
    "        \n",
    "# Function for computing distance between images\n",
    "def compare(args):\n",
    "    img, img2 = args\n",
    "    img = (img - img.mean()) / img.std()\n",
    "    img2 = (img2 - img2.mean()) / img2.std()\n",
    "    return np.mean(np.abs(img - img2))"
   ]
  },
  {
   "cell_type": "markdown",
   "metadata": {},
   "source": [
    "### Input data"
   ]
  },
  {
   "cell_type": "code",
   "execution_count": 6,
   "metadata": {
    "collapsed": false
   },
   "outputs": [
    {
     "name": "stdout",
     "output_type": "stream",
     "text": [
      "Length of train 500\n"
     ]
    }
   ],
   "source": [
    "select = 500 # Only load 500 images for speed\n",
    "# Data loading\n",
    "train_files = sorted(glob.glob('../../../Data/train/*/*.jpg'), key=lambda x: random.random())[:select]\n",
    "train = np.array([imread(img) for img in train_files])\n",
    "print('Length of train {}'.format(len(train)))"
   ]
  },
  {
   "cell_type": "markdown",
   "metadata": {},
   "source": [
    "### Scale image"
   ]
  },
  {
   "cell_type": "code",
   "execution_count": 8,
   "metadata": {
    "collapsed": false
   },
   "outputs": [],
   "source": [
    "# Resize the images to speed it up.\n",
    "train = [cv2.resize(img, (224, 224), cv2.INTER_LINEAR) for img in train]\n",
    "\n",
    "# train = [scipy.misc.imresize(img, (224,224)) for image in train]"
   ]
  },
  {
   "cell_type": "markdown",
   "metadata": {},
   "source": [
    "### Compute distances"
   ]
  },
  {
   "cell_type": "code",
   "execution_count": null,
   "metadata": {
    "collapsed": true
   },
   "outputs": [],
   "source": [
    "# Create the distance matrix in a multithreaded fashion\n",
    "pool = multiprocessing.Pool(8)\n",
    "#bar = progressbar.ProgressBar(max=len(train))\n",
    "distances = np.zeros((len(train), len(train)))\n",
    "for i, img in enumerate(train): #enumerate(bar(train)):\n",
    "    all_imgs = [(img, f) for f in train]\n",
    "    dists = pool.map(compare, all_imgs)\n",
    "    distances[i, :] = dists"
   ]
  },
  {
   "cell_type": "markdown",
   "metadata": {},
   "source": [
    "### Clustering"
   ]
  },
  {
   "cell_type": "code",
   "execution_count": null,
   "metadata": {
    "collapsed": false
   },
   "outputs": [],
   "source": [
    "cls = cluster.DBSCAN(metric='precomputed', min_samples=5, eps=0.6)\n",
    "y = cls.fit_predict(distances)"
   ]
  },
  {
   "cell_type": "markdown",
   "metadata": {},
   "source": [
    "### Show images"
   ]
  },
  {
   "cell_type": "code",
   "execution_count": null,
   "metadata": {
    "collapsed": true
   },
   "outputs": [],
   "source": [
    "for uniq in pd.Series(y).value_counts().index:\n",
    "    if uniq != -1:\n",
    "        size = len(np.array(train)[y == uniq])\n",
    "        if size > 10:\n",
    "            show_eight(np.array(train)[y == uniq], 'BoatID: {} - Image count {}'.format(uniq, size))\n",
    "            plt.show()\n",
    "        else:\n",
    "            show_four(np.array(train)[y == uniq], 'BoatID: {} - Image count {}'.format(uniq, size))\n",
    "            plt.show()            "
   ]
  }
 ],
 "metadata": {
  "kernelspec": {
   "display_name": "Python 2",
   "language": "python",
   "name": "python2"
  },
  "language_info": {
   "codemirror_mode": {
    "name": "ipython",
    "version": 2
   },
   "file_extension": ".py",
   "mimetype": "text/x-python",
   "name": "python",
   "nbconvert_exporter": "python",
   "pygments_lexer": "ipython2",
   "version": "2.7.13"
  }
 },
 "nbformat": 4,
 "nbformat_minor": 0
}
