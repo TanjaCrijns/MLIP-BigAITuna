{
 "cells": [
  {
   "cell_type": "code",
   "execution_count": null,
   "metadata": {
    "collapsed": false
   },
   "outputs": [],
   "source": [
    "from sklearn.externals import joblib\n",
    "import matplotlib.pyplot as plt\n",
    "%matplotlib inline\n",
    "import glob\n",
    "import scipy\n",
    "import os\n",
    "from matplotlib.patches import Rectangle\n",
    "import numpy as np\n",
    "import sys\n",
    "sys.path.append('../dataset')\n",
    "from non_maximum_suppression import *"
   ]
  },
  {
   "cell_type": "code",
   "execution_count": null,
   "metadata": {
    "collapsed": true
   },
   "outputs": [],
   "source": [
    "ground_truth = joblib.load(r'E:\\Data\\learned_boxes\\ground_truth.pkl')\n",
    "vgg = joblib.load(r'E:\\Data\\learned_boxes\\vgg_fcn_no_cn.pkl')\n",
    "fcn = joblib.load(r'E:\\Data\\learned_boxes\\small_fcn_no_cn.pkl')"
   ]
  },
  {
   "cell_type": "code",
   "execution_count": null,
   "metadata": {
    "collapsed": false
   },
   "outputs": [],
   "source": [
    "newdict = {}\n",
    "for key in set(vgg.keys() + fcn.keys()):\n",
    "    newdict[key] = []\n",
    "    if key in vgg:\n",
    "        newdict[key].append(vgg[key])\n",
    "    if key in fcn:\n",
    "        newdict[key].append(fcn[key])"
   ]
  },
  {
   "cell_type": "code",
   "execution_count": null,
   "metadata": {
    "collapsed": false,
    "scrolled": true
   },
   "outputs": [],
   "source": [
    "files = glob.glob(r'E:\\Data\\train\\*\\*')\n",
    "for file in files[:10]:\n",
    "    \n",
    "    img = scipy.misc.imread(file)\n",
    "    plt.figure(figsize=(12,8))\n",
    "    plt.imshow(img)\n",
    "    boxes = newdict[os.path.basename(file)]\n",
    "    boxes = np.array(boxes)\n",
    "    print(boxes.shape)\n",
    "    for box in boxes:\n",
    "        (x, y, width, height) = box\n",
    "        ax = plt.gca()\n",
    "        ax.add_patch(\n",
    "            Rectangle(\n",
    "                (x, y),\n",
    "                width,\n",
    "                height,\n",
    "                fill=False,\n",
    "                edgecolor='blue',\n",
    "                linewidth=5\n",
    "            )\n",
    "        )\n",
    "    boxes = non_max_suppression_fast(boxes, 0.4)\n",
    "    for box in boxes:\n",
    "        (x, y, width, height) = box\n",
    "        ax = plt.gca()\n",
    "        ax.add_patch(\n",
    "            Rectangle(\n",
    "                (x, y),\n",
    "                width,\n",
    "                height,\n",
    "                fill=False,\n",
    "                edgecolor='red',\n",
    "                linewidth=1\n",
    "            )\n",
    "        )\n",
    "    plt.show()\n"
   ]
  }
 ],
 "metadata": {
  "kernelspec": {
   "display_name": "Python 2",
   "language": "python",
   "name": "python2"
  },
  "language_info": {
   "codemirror_mode": {
    "name": "ipython",
    "version": 2
   },
   "file_extension": ".py",
   "mimetype": "text/x-python",
   "name": "python",
   "nbconvert_exporter": "python",
   "pygments_lexer": "ipython2",
   "version": "2.7.12"
  }
 },
 "nbformat": 4,
 "nbformat_minor": 2
}
