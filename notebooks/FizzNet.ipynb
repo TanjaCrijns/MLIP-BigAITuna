{
 "cells": [
  {
   "cell_type": "code",
   "execution_count": null,
   "metadata": {
    "collapsed": false
   },
   "outputs": [],
   "source": [
    "%load_ext autoreload\n",
    "%autoreload 2\n",
    "import sys\n",
    "paths = ['../models', '../dataset', '../util']\n",
    "for path in paths:\n",
    "    if path not in sys.path:\n",
    "        sys.path.append(path)\n",
    "\n",
    "import json\n",
    "from keras.models import Sequential, load_model\n",
    "from keras.layers import Convolution2D, Dense, Flatten, Dropout, MaxPooling2D, BatchNormalization\n",
    "from keras.optimizers import Adam, SGD\n",
    "from keras.preprocessing.image import ImageDataGenerator\n",
    "from keras.callbacks import CSVLogger, ModelCheckpoint, ReduceLROnPlateau\n",
    "from keras.utils import np_utils\n",
    "from collections import defaultdict, Counter\n",
    "import cv2\n",
    "\n",
    "import pandas as pd\n",
    "import matplotlib.pyplot as plt\n",
    "import glob\n",
    "import numpy as np\n",
    "import os\n",
    "from tqdm import tqdm_notebook as tqdm\n",
    "from sklearn.externals import joblib\n",
    "\n",
    "from scipy.misc import imread\n",
    "\n",
    "import dataset\n",
    "from data_generators import get_data\n",
    "from bounding_boxes import get_bounding_boxes, largest_bbox_per_image\n",
    "\n",
    "%matplotlib inline"
   ]
  },
  {
   "cell_type": "code",
   "execution_count": null,
   "metadata": {
    "collapsed": false
   },
   "outputs": [],
   "source": [
    "DATA_FOLDER = 'C:/Users/Thomas/Documents/MLIP-BigAITuna/Data'\n",
    "#bboxes = get_bounding_boxes('/media/joris/Scrub/Data/bounding_boxes')\n",
    "#bboxes = largest_bbox_per_image(bboxes)\n",
    "bboxes = {}\n",
    "files = glob.glob(DATA_FOLDER + '/bounding_boxes/*.json')\n",
    "for ff in files:\n",
    "    with open(ff) as f:\n",
    "        data = json.load(f)\n",
    "        for image in data:\n",
    "            for annot in image['annotations']:\n",
    "                bboxes[os.path.basename(image['filename'])] = (int(max(0, annot['x'])), int(max(0, annot['y'])), int(annot['width']), int(annot['height'])) \n",
    "train_data = dataset.train\n",
    "val_data = dataset.validation\n",
    "labels = dataset.labels"
   ]
  },
  {
   "cell_type": "code",
   "execution_count": null,
   "metadata": {
    "collapsed": false
   },
   "outputs": [],
   "source": [
    "train_data = train_data[train_data.filename.isin(bboxes.keys())]\n",
    "val_data = val_data[val_data.filename.isin(bboxes.keys())]\n",
    "test_files = sorted([os.path.basename(p) for p in glob.glob(os.path.join(DATA_FOLDER, 'test_stg1/*.jpg'))])\n",
    "test_data = pd.DataFrame({'filename':test_files, 'label': ['ALB']*len(test_files)})\n",
    "\n",
    "print len(train_data)\n",
    "print len(val_data)"
   ]
  },
  {
   "cell_type": "code",
   "execution_count": null,
   "metadata": {
    "collapsed": false
   },
   "outputs": [],
   "source": [
    "model = Sequential()\n",
    "model.add(BatchNormalization(input_shape=[3, 256, 256], axis=1))\n",
    "model.add(Convolution2D(16, 3, 3, border_mode='same', input_shape=[3, 256, 256], \n",
    "                        activation='relu'))\n",
    "model.add(MaxPooling2D(pool_size=(2, 2)))\n",
    "model.add(Convolution2D(32, 3, 3, border_mode='same', activation='relu'))\n",
    "model.add(MaxPooling2D(pool_size=(2, 2)))\n",
    "model.add(Dropout(0.25))\n",
    "model.add(Convolution2D(64, 3, 3, border_mode='same', activation='relu'))\n",
    "model.add(MaxPooling2D(pool_size=(2, 2)))\n",
    "model.add(Convolution2D(128, 3, 3, border_mode='same', activation='relu'))\n",
    "model.add(MaxPooling2D(pool_size=(2, 2)))\n",
    "model.add(Flatten())\n",
    "model.add(Dense(256, activation='relu'))\n",
    "model.add(Dense(len(labels), activation='softmax'))\n",
    "\n",
    "model.compile(loss='categorical_crossentropy',\n",
    "             optimizer=Adam(),\n",
    "             metrics=['accuracy', 'categorical_crossentropy'])\n",
    "\n",
    "model.summary()"
   ]
  },
  {
   "cell_type": "code",
   "execution_count": null,
   "metadata": {
    "collapsed": false
   },
   "outputs": [],
   "source": [
    "train_gen = get_data(train_data, os.path.join(DATA_FOLDER, 'train'), augmentation=True,\n",
    "                     bboxes=bboxes, flip=True, shift_x=5, shift_y=5, rot_range=10, \n",
    "                     elastic_trans=False)\n",
    "val_gen = get_data(val_data, os.path.join(DATA_FOLDER, 'train'), bboxes=bboxes,\n",
    "                   augmentation=False, shuffle=False)\n"
   ]
  },
  {
   "cell_type": "code",
   "execution_count": null,
   "metadata": {
    "collapsed": false
   },
   "outputs": [],
   "source": [
    "batch = next(train_gen)\n",
    "print batch[1]\n",
    "# for img in batch[0]:\n",
    "#     print img.shape\n",
    "#     plt.imshow(img.transpose(1, 2, 0) + 0.5)\n",
    "#     plt.show()"
   ]
  },
  {
   "cell_type": "code",
   "execution_count": null,
   "metadata": {
    "collapsed": false,
    "scrolled": false
   },
   "outputs": [],
   "source": [
    "csv_logger = CSVLogger('run4_adam.csv')\n",
    "lr_plateau = ReduceLROnPlateau(monitor='val_loss', patience=2, verbose=1, factor=0.5)\n",
    "checkpoint = ModelCheckpoint(filepath='../model/model.{epoch:02d}-{val_loss}.hdf5',\n",
    "                             verbose=1, save_best_only=True)\n",
    "\n",
    "model.fit_generator(train_gen, samples_per_epoch=len(train_data),\n",
    "                    nb_epoch=500,\n",
    "                    callbacks=[csv_logger, lr_plateau, checkpoint],\n",
    "                    validation_data=val_gen, nb_val_samples=len(val_data),\n",
    "                    pickle_safe=False, nb_worker=3)"
   ]
  },
  {
   "cell_type": "code",
   "execution_count": null,
   "metadata": {
    "collapsed": false
   },
   "outputs": [],
   "source": [
    "model = load_model('/media/joris/Scrub/Models/fcn_crop/model.19-0.585225485265.hdf5')"
   ]
  },
  {
   "cell_type": "code",
   "execution_count": null,
   "metadata": {
    "collapsed": true
   },
   "outputs": [],
   "source": [
    "def remove_labels(gen):\n",
    "    for x, _ in gen:\n",
    "        yield x\n",
    "test_gen = get_data(test_data, os.path.join(DATA_FOLDER, 'test'), bboxes=bboxes,\n",
    "                   augmentation=False, shuffle=False)\n",
    "test_gen = remove_labels(test_gen)"
   ]
  },
  {
   "cell_type": "code",
   "execution_count": null,
   "metadata": {
    "collapsed": false
   },
   "outputs": [],
   "source": [
    "preds = model.predict_generator(test_gen, val_samples=1024)[:1000]"
   ]
  },
  {
   "cell_type": "code",
   "execution_count": null,
   "metadata": {
    "collapsed": false
   },
   "outputs": [],
   "source": [
    "preds = np.clip(preds, 0.02, 0.98)"
   ]
  },
  {
   "cell_type": "code",
   "execution_count": null,
   "metadata": {
    "collapsed": true
   },
   "outputs": [],
   "source": [
    "with open('sub.csv', 'w') as sub_file:\n",
    "    sub_file.write('image,ALB,BET,DOL,LAG,NoF,OTHER,SHARK,YFT\\n')\n",
    "    for img, pred in zip(test_files, preds):\n",
    "        csv = '%s,%s\\n' % (img, ','.join([str(f) for f in pred]))\n",
    "        sub_file.write(csv)"
   ]
  },
  {
   "cell_type": "code",
   "execution_count": null,
   "metadata": {
    "collapsed": true
   },
   "outputs": [],
   "source": []
  }
 ],
 "metadata": {
  "kernelspec": {
   "display_name": "Python 2",
   "language": "python",
   "name": "python2"
  },
  "language_info": {
   "codemirror_mode": {
    "name": "ipython",
    "version": 2
   },
   "file_extension": ".py",
   "mimetype": "text/x-python",
   "name": "python",
   "nbconvert_exporter": "python",
   "pygments_lexer": "ipython2",
   "version": "2.7.13"
  }
 },
 "nbformat": 4,
 "nbformat_minor": 1
}
