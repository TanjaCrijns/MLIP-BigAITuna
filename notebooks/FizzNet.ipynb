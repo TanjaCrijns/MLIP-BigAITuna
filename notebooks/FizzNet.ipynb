{
 "cells": [
  {
   "cell_type": "code",
   "execution_count": null,
   "metadata": {
    "collapsed": false,
    "deletable": true,
    "editable": true
   },
   "outputs": [],
   "source": [
    "%load_ext autoreload\n",
    "%autoreload 2\n",
    "import sys\n",
    "paths = ['../models', '../dataset', '../util']\n",
    "for path in paths:\n",
    "    if path not in sys.path:\n",
    "        sys.path.append(path)\n",
    "\n",
    "import json\n",
    "from keras.models import Sequential, load_model\n",
    "from keras.layers import Convolution2D, Dense, Flatten, Dropout, MaxPooling2D, BatchNormalization\n",
    "from keras.optimizers import Adam, SGD\n",
    "from keras.preprocessing.image import ImageDataGenerator\n",
    "from keras.callbacks import CSVLogger, ModelCheckpoint, ReduceLROnPlateau\n",
    "from keras.utils import np_utils\n",
    "from collections import defaultdict, Counter\n",
    "import cv2\n",
    "\n",
    "import pandas as pd\n",
    "import matplotlib.pyplot as plt\n",
    "import glob\n",
    "import numpy as np\n",
    "import os\n",
    "from tqdm import tqdm_notebook as tqdm\n",
    "from sklearn.externals import joblib\n",
    "\n",
    "from scipy.misc import imread\n",
    "\n",
    "import dataset\n",
    "from data_generators import get_data\n",
    "from bounding_boxes import get_bounding_boxes, largest_bbox_per_image\n",
    "\n",
    "%matplotlib inline"
   ]
  },
  {
   "cell_type": "code",
   "execution_count": null,
   "metadata": {
    "collapsed": false,
    "deletable": true,
    "editable": true
   },
   "outputs": [],
   "source": [
    "DATA_FOLDER = 'E:/Data'\n",
    "bboxes = joblib.load(os.path.join(DATA_FOLDER, 'learned_boxes/all_boxes.pkl'))\n",
    "train_data = dataset.train\n",
    "val_data = dataset.validation\n",
    "labels = dataset.labels"
   ]
  },
  {
   "cell_type": "code",
   "execution_count": null,
   "metadata": {
    "collapsed": false,
    "deletable": true,
    "editable": true
   },
   "outputs": [],
   "source": [
    "train_data = train_data[train_data.filename.isin(bboxes.keys())]\n",
    "val_data = val_data[val_data.filename.isin(bboxes.keys())]\n",
    "test_files = sorted([os.path.basename(p) for p in glob.glob(os.path.join(DATA_FOLDER, 'test_stg1/*.jpg'))])\n",
    "test_data = pd.DataFrame({'filename':test_files, 'label': ['ALB']*len(test_files)})\n",
    "\n",
    "print len(train_data)\n",
    "print len(val_data)"
   ]
  },
  {
   "cell_type": "code",
   "execution_count": null,
   "metadata": {
    "collapsed": false,
    "deletable": true,
    "editable": true
   },
   "outputs": [],
   "source": [
    "model = Sequential()\n",
    "\n",
    "# model.add(BatchNormalization(input_shape=[3, 256, 256], axis=1))\n",
    "\n",
    "model.add(Convolution2D(32, 3, 3, input_shape=[3, 256, 256], activation='relu'))\n",
    "# model.add(BatchNormalization(axis=1))\n",
    "model.add(Convolution2D(32, 3, 3, activation='relu'))\n",
    "# model.add(BatchNormalization(axis=1))\n",
    "model.add(MaxPooling2D(pool_size=(2, 2)))\n",
    "\n",
    "model.add(Convolution2D(64, 3, 3, activation='relu'))\n",
    "# model.add(BatchNormalization(axis=1))\n",
    "model.add(Convolution2D(64, 3, 3, activation='relu'))\n",
    "# model.add(BatchNormalization(axis=1))\n",
    "model.add(MaxPooling2D(pool_size=(2, 2)))\n",
    "\n",
    "model.add(Convolution2D(128, 3, 3, activation='relu'))\n",
    "# model.add(BatchNormalization(axis=1))\n",
    "model.add(Convolution2D(128, 3, 3, activation='relu'))\n",
    "# model.add(BatchNormalization(axis=1))\n",
    "model.add(MaxPooling2D(pool_size=(2, 2)))\n",
    "\n",
    "model.add(Flatten())\n",
    "model.add(Dense(512, activation='relu'))\n",
    "model.add(Dense(len(labels), activation='softmax'))\n",
    "\n",
    "model.compile(loss='categorical_crossentropy',\n",
    "             optimizer=Adam(),\n",
    "             metrics=['accuracy', 'categorical_crossentropy'])\n",
    "\n",
    "model.summary()"
   ]
  },
  {
   "cell_type": "code",
   "execution_count": null,
   "metadata": {
    "collapsed": false,
    "deletable": true,
    "editable": true
   },
   "outputs": [],
   "source": [
    "train_gen = get_data(train_data, os.path.join(DATA_FOLDER, 'train'), labels, augmentation=True,\n",
    "                     bboxes=bboxes, flip=True, shift_x=5, shift_y=5, rot_range=2, balance_batches=True,\n",
    "                     elastic_trans=False, batch_size=16)\n",
    "val_gen = get_data(val_data, os.path.join(DATA_FOLDER, 'train'), labels, bboxes=bboxes, balance_batches=True,\n",
    "                   augmentation=False, shuffle=False, batch_size=16)\n"
   ]
  },
  {
   "cell_type": "code",
   "execution_count": null,
   "metadata": {
    "collapsed": false,
    "deletable": true,
    "editable": true,
    "scrolled": false
   },
   "outputs": [],
   "source": [
    "batch = next(train_gen)\n",
    "for img in batch[0]:\n",
    "    print img.shape\n",
    "    plt.imshow(img.transpose(1, 2, 0) + 0.5)\n",
    "    plt.show()"
   ]
  },
  {
   "cell_type": "code",
   "execution_count": null,
   "metadata": {
    "collapsed": false
   },
   "outputs": [],
   "source": [
    "batch[1].sum(axis=0)"
   ]
  },
  {
   "cell_type": "code",
   "execution_count": null,
   "metadata": {
    "collapsed": false,
    "deletable": true,
    "editable": true
   },
   "outputs": [],
   "source": [
    "print next(train_gen)[0].min()"
   ]
  },
  {
   "cell_type": "code",
   "execution_count": null,
   "metadata": {
    "collapsed": false,
    "deletable": true,
    "editable": true,
    "scrolled": false
   },
   "outputs": [],
   "source": [
    "csv_logger = CSVLogger('run4_adam.csv')\n",
    "lr_plateau = ReduceLROnPlateau(monitor='val_loss', patience=1, verbose=1, factor=0.5)\n",
    "checkpoint = ModelCheckpoint(filepath='E:/Models/serious1_balanced/model.{epoch:02d}-{val_loss:.2f}.hdf5',\n",
    "                             verbose=1, save_best_only=True)\n",
    "\n",
    "model.fit_generator(train_gen, samples_per_epoch=len(train_data),\n",
    "                    nb_epoch=500, verbose=2,\n",
    "                    callbacks=[csv_logger, lr_plateau, checkpoint],\n",
    "                    validation_data=val_gen, nb_val_samples=len(val_data))"
   ]
  },
  {
   "cell_type": "code",
   "execution_count": null,
   "metadata": {
    "collapsed": false,
    "deletable": true,
    "editable": true
   },
   "outputs": [],
   "source": [
    "model = load_model('E:/Models/serious1_balanced/model.12-0.87.hdf5')"
   ]
  },
  {
   "cell_type": "code",
   "execution_count": null,
   "metadata": {
    "collapsed": false
   },
   "outputs": [],
   "source": [
    "other_bboxes = joblib.load('E:/Data/learned_boxes/small_fcn_no_cn.pkl')\n",
    "val_gen = get_data(val_data, os.path.join(DATA_FOLDER, 'train'), labels, bboxes=other_bboxes,\n",
    "                   augmentation=False, shuffle=False, batch_size=16)\n",
    "model.evaluate_generator(val_gen, val_samples=len(val_data))\n",
    "# next(val_gen)"
   ]
  },
  {
   "cell_type": "code",
   "execution_count": null,
   "metadata": {
    "collapsed": false,
    "deletable": true,
    "editable": true
   },
   "outputs": [],
   "source": [
    "from preprocess import preprocess\n",
    "test_files = glob.glob('E:/Data/test_stg1/*.jpg')\n",
    "preds = np.zeros((1000, 8))\n",
    "for i, file in tqdm(enumerate(sorted(test_files)), total=1000):\n",
    "    img = cv2.imread(file, cv2.IMREAD_COLOR)[:, :, ::-1]\n",
    "    img_name = os.path.basename(file)\n",
    "    if img_name not in bboxes:\n",
    "        # no bbox -> no fish\n",
    "        preds[i] = np.array([0, 0, 0, 0, 1, 0, 0, 0])\n",
    "        continue\n",
    "    boxes = bboxes[img_name]\n",
    "    all_preds = []\n",
    "    for x, y, width, height in boxes:\n",
    "        crop = img[y:y+height, x:x+width]\n",
    "        crop = preprocess(crop, scale=1./255., zero_center=True, target_size=(256, 256))\n",
    "        pred = model.predict(np.expand_dims(crop, 0))[0]\n",
    "        all_preds.append(pred)\n",
    "    avg_pred = np.array(all_preds).mean(axis=0)\n",
    "    preds[i] = avg_pred\n",
    "    "
   ]
  },
  {
   "cell_type": "code",
   "execution_count": null,
   "metadata": {
    "collapsed": true,
    "deletable": true,
    "editable": true
   },
   "outputs": [],
   "source": [
    "def remove_labels(gen):\n",
    "    for x, _ in gen:\n",
    "        yield x\n",
    "test_gen = get_data(test_data, os.path.join(DATA_FOLDER, 'test'), bboxes=bboxes,\n",
    "                   augmentation=False, shuffle=False)\n",
    "test_gen = remove_labels(test_gen)"
   ]
  },
  {
   "cell_type": "code",
   "execution_count": null,
   "metadata": {
    "collapsed": false,
    "deletable": true,
    "editable": true
   },
   "outputs": [],
   "source": [
    "preds = model.predict_generator(test_gen, val_samples=1024)[:1000]"
   ]
  },
  {
   "cell_type": "code",
   "execution_count": null,
   "metadata": {
    "collapsed": false,
    "deletable": true,
    "editable": true
   },
   "outputs": [],
   "source": [
    "preds = np.clip(preds, 0.05, 0.95)"
   ]
  },
  {
   "cell_type": "code",
   "execution_count": null,
   "metadata": {
    "collapsed": true,
    "deletable": true,
    "editable": true
   },
   "outputs": [],
   "source": [
    "with open('sub.csv', 'w') as sub_file:\n",
    "    sub_file.write('image,ALB,BET,DOL,LAG,NoF,OTHER,SHARK,YFT\\n')\n",
    "    for img, pred in zip(sorted(test_files), preds):\n",
    "        csv = '%s,%s\\n' % (os.path.basename(img), ','.join([str(f) for f in pred]))\n",
    "        sub_file.write(csv)"
   ]
  },
  {
   "cell_type": "code",
   "execution_count": null,
   "metadata": {
    "collapsed": true,
    "deletable": true,
    "editable": true
   },
   "outputs": [],
   "source": [
    "np.argmax()"
   ]
  }
 ],
 "metadata": {
  "kernelspec": {
   "display_name": "Python 2",
   "language": "python",
   "name": "python2"
  },
  "language_info": {
   "codemirror_mode": {
    "name": "ipython",
    "version": 2
   },
   "file_extension": ".py",
   "mimetype": "text/x-python",
   "name": "python",
   "nbconvert_exporter": "python",
   "pygments_lexer": "ipython2",
   "version": "2.7.12"
  }
 },
 "nbformat": 4,
 "nbformat_minor": 1
}
