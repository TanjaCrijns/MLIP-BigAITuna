{
 "cells": [
  {
   "cell_type": "code",
   "execution_count": 1,
   "metadata": {
    "collapsed": false
   },
   "outputs": [
    {
     "name": "stderr",
     "output_type": "stream",
     "text": [
      "Using Theano backend.\n",
      "WARNING (theano.gof.compilelock): Overriding existing lock by dead process '6636' (I am process '11080')\n",
      "DEBUG: nvcc STDOUT mod.cu\n",
      "   Creating library C:/Users/Joris/AppData/Local/Theano/compiledir_Windows-10-10.0.14393-Intel64_Family_6_Model_60_Stepping_3_GenuineIntel-2.7.12-64/tmp6oxgbq/265abc51f7c376c224983485238ff1a5.lib and object C:/Users/Joris/AppData/Local/Theano/compiledir_Windows-10-10.0.14393-Intel64_Family_6_Model_60_Stepping_3_GenuineIntel-2.7.12-64/tmp6oxgbq/265abc51f7c376c224983485238ff1a5.exp\n",
      "\n",
      "Using gpu device 0: GeForce GTX 1060 6GB (CNMeM is disabled, cuDNN 5105)\n",
      "D:\\Anaconda\\envs\\python2\\lib\\site-packages\\theano\\sandbox\\cuda\\__init__.py:600: UserWarning: Your cuDNN version is more recent than the one Theano officially supports. If you see any problems, try updating Theano or downgrading cuDNN to version 5.\n",
      "  warnings.warn(warn)\n"
     ]
    }
   ],
   "source": [
    "#imports\n",
    "from keras.models import Sequential\n",
    "from keras.layers import Dense, Dropout, Activation,Flatten\n",
    "from keras.layers import Convolution2D, MaxPooling2D\n",
    "from keras.optimizers import Adam\n",
    "from keras.preprocessing.image import ImageDataGenerator"
   ]
  },
  {
   "cell_type": "code",
   "execution_count": 2,
   "metadata": {
    "collapsed": true
   },
   "outputs": [],
   "source": [
    "# Paths\n",
    "TRAIN_FOLDER = 'E:/Data/train'\n",
    "TEST_FOLDER = 'E:/Data/test_stg1'\n",
    "AUGMENT_FOLDER = None # folder to save augmented image for testing\n",
    "\n",
    "# network config\n",
    "input_size = 256\n",
    "filter1_size = 32\n",
    "filter2_size = 64 \n",
    "classes = 8\n",
    "batch_size = 32\n",
    "epochs=10"
   ]
  },
  {
   "cell_type": "code",
   "execution_count": 3,
   "metadata": {
    "collapsed": false
   },
   "outputs": [],
   "source": [
    "def keras_model_conv():\n",
    "    model = Sequential()\n",
    "    model.add(Convolution2D(filter1_size, 3, 3, \n",
    "                          border_mode='same', \n",
    "                          input_shape=(3, input_size, input_size)))\n",
    "    model.add(Activation('relu'))\n",
    "    model.add(Convolution2D(filter1_size, 3, 3))\n",
    "    model.add(Activation('relu'))\n",
    "    model.add(MaxPooling2D(pool_size=(2,2)))\n",
    "    model.add(Dropout(0.5))\n",
    "\n",
    "    model.add(Convolution2D(filter2_size, 3, 3))\n",
    "    model.add(Activation('relu'))\n",
    "    model.add(Convolution2D(filter2_size, 3, 3))\n",
    "    model.add(Activation('relu'))\n",
    "    model.add(MaxPooling2D(pool_size=(2,2)))\n",
    "    model.add(Dropout(0.5))\n",
    "    model.add(Flatten())\n",
    "    model.add(Dense(128))\n",
    "    model.add(Activation('relu'))\n",
    "    model.add(Dropout(0.5))\n",
    "    model.add(Dense(classes))\n",
    "    model.add(Activation('softmax'))\n",
    "\n",
    "    model.compile(loss='categorical_crossentropy',\n",
    "              optimizer=Adam(),\n",
    "              metrics=['accuracy', 'categorical_crossentropy'])\n",
    "\n",
    "    return model\n"
   ]
  },
  {
   "cell_type": "code",
   "execution_count": 4,
   "metadata": {
    "collapsed": false
   },
   "outputs": [
    {
     "name": "stdout",
     "output_type": "stream",
     "text": [
      "Found 3777 images belonging to 8 classes.\n"
     ]
    }
   ],
   "source": [
    "datagen = ImageDataGenerator(horizontal_flip=True,\n",
    "                            rescale=1./255.,\n",
    "                            rotation_range=10)\n",
    "gen = datagen.flow_from_directory(TRAIN_FOLDER,\n",
    "                            target_size=(input_size,input_size),\n",
    "                            batch_size=batch_size,\n",
    "                            save_to_dir=AUGMENT_FOLDER)\n",
    "\n"
   ]
  },
  {
   "cell_type": "code",
   "execution_count": 5,
   "metadata": {
    "collapsed": false,
    "scrolled": false
   },
   "outputs": [
    {
     "name": "stdout",
     "output_type": "stream",
     "text": [
      "Epoch 1/10\n",
      "1024/1000 [==============================] - 56s - loss: 8.7371 - acc: 0.4375 - categorical_crossentropy: 8.7371    "
     ]
    },
    {
     "name": "stderr",
     "output_type": "stream",
     "text": [
      "D:\\Anaconda\\envs\\python2\\lib\\site-packages\\keras\\engine\\training.py:1569: UserWarning: Epoch comprised more than `samples_per_epoch` samples, which might affect learning results. Set `samples_per_epoch` correctly to avoid this warning.\n",
      "  warnings.warn('Epoch comprised more than '\n"
     ]
    },
    {
     "name": "stdout",
     "output_type": "stream",
     "text": [
      "\n",
      "Epoch 2/10\n",
      "1024/1000 [==============================] - 53s - loss: 8.8303 - acc: 0.4521 - categorical_crossentropy: 8.8303    \n",
      "Epoch 3/10\n",
      "1024/1000 [==============================] - 53s - loss: 8.6729 - acc: 0.4619 - categorical_crossentropy: 8.6729    \n",
      "Epoch 4/10\n",
      "1025/1000 [==============================] - 50s - loss: 8.8689 - acc: 0.4498 - categorical_crossentropy: 8.8689    \n",
      "Epoch 5/10\n",
      "1024/1000 [==============================] - 44s - loss: 8.6729 - acc: 0.4619 - categorical_crossentropy: 8.6729    \n",
      "Epoch 6/10\n",
      "1024/1000 [==============================] - 44s - loss: 8.9877 - acc: 0.4424 - categorical_crossentropy: 8.9877    \n",
      "Epoch 7/10\n",
      "1024/1000 [==============================] - 44s - loss: 8.3581 - acc: 0.4814 - categorical_crossentropy: 8.3581    \n",
      "Epoch 8/10\n",
      "1025/1000 [==============================] - 44s - loss: 9.0104 - acc: 0.4410 - categorical_crossentropy: 9.0104    \n",
      "Epoch 9/10\n",
      "1024/1000 [==============================] - 43s - loss: 8.7359 - acc: 0.4580 - categorical_crossentropy: 8.7359    \n",
      "Epoch 10/10\n",
      "1024/1000 [==============================] - 46s - loss: 9.1924 - acc: 0.4297 - categorical_crossentropy: 9.1924    \n"
     ]
    }
   ],
   "source": [
    "model = keras_model_conv()\n",
    "history = model.fit_generator(gen,\n",
    "                              samples_per_epoch=1000,\n",
    "                              nb_epoch=epochs,\n",
    "                              verbose=1 \n",
    "                              )\n"
   ]
  },
  {
   "cell_type": "code",
   "execution_count": 6,
   "metadata": {
    "collapsed": false,
    "scrolled": true
   },
   "outputs": [],
   "source": [
    "model.save('E:/models/simple.h5')"
   ]
  }
 ],
 "metadata": {
  "kernelspec": {
   "display_name": "Python 2",
   "language": "python",
   "name": "python2"
  },
  "language_info": {
   "codemirror_mode": {
    "name": "ipython",
    "version": 2
   },
   "file_extension": ".py",
   "mimetype": "text/x-python",
   "name": "python",
   "nbconvert_exporter": "python",
   "pygments_lexer": "ipython2",
   "version": "2.7.12"
  }
 },
 "nbformat": 4,
 "nbformat_minor": 2
}
